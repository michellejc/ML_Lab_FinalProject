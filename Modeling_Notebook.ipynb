{
 "cells": [
  {
   "cell_type": "markdown",
   "metadata": {},
   "source": [
    "Mental Health and the Tech Industry\n",
    "----------\n",
    "#### Research Question\n",
    "Can we predicting if an individual has sought treatment for a mental health condition based on a variety of mental health realted survey responses\n",
    "\n",
    "Data from Kaggle: https://www.kaggle.com/osmi/mental-health-in-tech-survey"
   ]
  },
  {
   "cell_type": "markdown",
   "metadata": {},
   "source": [
    "Imports \n",
    "-----"
   ]
  },
  {
   "cell_type": "code",
   "execution_count": 226,
   "metadata": {},
   "outputs": [],
   "source": [
    "import numpy as np\n",
    "import pandas as pd\n",
    "\n",
    "from   sklearn.compose         import *\n",
    "from   sklearn.experimental    import enable_iterative_imputer\n",
    "from   sklearn.impute          import *\n",
    "from   sklearn.compose         import TransformedTargetRegressor \n",
    "from   sklearn.pipeline        import Pipeline\n",
    "from   sklearn.preprocessing   import *\n",
    "from   sklearn.preprocessing   import LabelEncoder\n",
    "from   sklearn.preprocessing   import StandardScaler\n",
    "from   sklearn.base            import BaseEstimator\n",
    "from   sklearn.ensemble        import RandomForestClassifier\n",
    "from   sklearn.linear_model    import LogisticRegression \n",
    "from   sklearn.linear_model    import RidgeClassifier\n",
    "from   sklearn.model_selection import RandomizedSearchCV\n",
    "from   sklearn.model_selection import train_test_split\n",
    "from   sklearn.neighbors       import KNeighborsClassifier\n",
    "from   sklearn.svm             import SVC\n",
    "from   sklearn.model_selection import cross_validate\n",
    "from   sklearn.model_selection import train_test_split\n",
    "from   sklearn.metrics         import f1_score\n",
    "from   sklearn.metrics         import roc_auc_score\n",
    "from   sklearn.metrics         import roc_curve\n",
    "from   sklearn.inspection      import permutation_importance\n",
    "from   sklearn.preprocessing   import OrdinalEncoder\n",
    "from   sklearn.feature_selection import SelectKBest\n",
    "from   sklearn.feature_selection import chi2\n",
    "\n",
    "from   numpy                   import asarray\n",
    "\n",
    "\n",
    "import matplotlib.pyplot       as plt\n",
    "from matplotlib.ticker         import FormatStrFormatter\n",
    "\n",
    "import warnings\n",
    "warnings.filterwarnings(\"ignore\")"
   ]
  },
  {
   "cell_type": "markdown",
   "metadata": {},
   "source": [
    "Load Data\n",
    "----"
   ]
  },
  {
   "cell_type": "code",
   "execution_count": 227,
   "metadata": {},
   "outputs": [],
   "source": [
    "path = 'https://raw.githubusercontent.com/michellejc/ML_Lab_FinalProject/main/survey.csv'\n",
    "df = pd.read_csv(path)"
   ]
  },
  {
   "cell_type": "markdown",
   "metadata": {},
   "source": [
    "Sequestering Test Set\n",
    "----"
   ]
  },
  {
   "cell_type": "code",
   "execution_count": 228,
   "metadata": {},
   "outputs": [],
   "source": [
    "y = df['treatment']\n",
    "X = df.drop(columns=['treatment'])\n",
    "\n",
    "X_train_main, X_test, y_train_main, y_test = train_test_split(X, y, random_state=89)"
   ]
  },
  {
   "cell_type": "markdown",
   "metadata": {},
   "source": [
    "Data Cleaning\n",
    "---- "
   ]
  },
  {
   "cell_type": "code",
   "execution_count": 229,
   "metadata": {},
   "outputs": [],
   "source": [
    "# Binning free response gender\n",
    "male = ['male','m','make','male-ish', 'maile', 'cis male','mal','male (cis)','guy (-ish) ^_^','male ','man','msle','mail','malr','cis man']\n",
    "female = ['female','f','woman','cis female','femake','female ', 'cis-female/femme','female (cis)','femail']\n",
    "other = ['trans-female','queer/she/they','non-binary','nah', 'all', 'enby', 'fluid', 'genderqueer','androgyne','agender', 'male leaning androgynous','trans woman','neuter','something kinda male?', 'female (trans)', 'queer', 'a little about you','p','ostensibly male, unsure what that really means']\n",
    "\n",
    "def bin_gender(df):\n",
    "    df.Gender = df.Gender.str.lower()\n",
    "    df.Gender.loc[df.Gender.isin(male)]= 'male'\n",
    "    df.Gender.loc[df.Gender.isin(female)]= 'female'\n",
    "    df.Gender.loc[df.Gender.isin(other)]= 'other'\n",
    "    return df\n",
    "\n",
    "X_train_main = bin_gender(X_train_main)\n",
    "X_test = bin_gender(X_test)"
   ]
  },
  {
   "cell_type": "markdown",
   "metadata": {},
   "source": [
    "Converting Target Variable \n",
    "----\n",
    "Transforming the target variable y (has or has not sought treatment) from \"yes\" or \"no\" to 0 or 1. Target variable must be converted to numeric values (as do all features)"
   ]
  },
  {
   "cell_type": "code",
   "execution_count": 230,
   "metadata": {},
   "outputs": [],
   "source": [
    "le = LabelEncoder()\n",
    "le.fit(y_train_main)\n",
    "\n",
    "y_train_main = le.transform(y_train_main)\n",
    "y_test = le.transform(y_test)"
   ]
  },
  {
   "cell_type": "markdown",
   "metadata": {},
   "source": [
    "Building the Preprocessing Pipeline \n",
    "----"
   ]
  },
  {
   "cell_type": "code",
   "execution_count": 106,
   "metadata": {},
   "outputs": [],
   "source": [
    "# categorical pipeline\n",
    "\n",
    "# binning age to reduce use as a categorical variable and reduce dimensionality \n",
    "bin_column = ['Age']\n",
    "categorical_columns = ['Gender', 'Country', 'self_employed',\n",
    "       'family_history', 'remote_work', 'benefits', 'care_options',\n",
    "        'wellness_program','seek_help', 'anonymity', 'leave', 'mental_health_consequence',\n",
    "       'phys_health_consequence', 'coworkers', 'supervisor',\n",
    "       'mental_health_interview', 'phys_health_interview',\n",
    "       'mental_vs_physical']\n",
    "\n",
    "# binning age \n",
    "bin_pipe = Pipeline([('imputer', SimpleImputer(strategy='median')),      # imputing missing values with the median to handle any missing values and not skew the data with other imputations \n",
    "                     ('bin', KBinsDiscretizer(n_bins=7, encode='onehot'))])\n",
    "\n",
    "# categorical pipeline \n",
    "cat_pipe = Pipeline([('imputer', SimpleImputer(strategy='constant', fill_value='missing')),  # imputing any other missing value as missing, missing may have significance and can be tracked if imputed specifically \n",
    "                     ('ohe', OneHotEncoder(handle_unknown='ignore'))])\n",
    "\n",
    "# combining preprocessing steps into one \n",
    "preprocessing = ColumnTransformer([('categorical', cat_pipe, categorical_columns),\n",
    "                                   ('bin', bin_pipe, bin_column)])\n"
   ]
  },
  {
   "cell_type": "markdown",
   "metadata": {},
   "source": [
    "Evaluation Metrics \n",
    "----\n",
    "I selected the F1 measure as my first evaluation metric. I choose the F1 score because it balances precision and recall for binary classification, which I feel is appropriate because I do not wish to prioritize precision or recall over the other. Furthermore it's values are always between 0 and 1 with values closer to 1 being better, which I feel is a simple and easy to interpret measure of this model. \n",
    "\n",
    "The second metric I track is the ROC score, or area under the Reciever Operating Characteristic curve. I chose this metric because it captures the interaction between the true positive rate and the false positive rate. I was not worried about odd behavior from the ROC curve becuase my dataset is more or less balanced."
   ]
  },
  {
   "cell_type": "markdown",
   "metadata": {},
   "source": [
    "Randomized CV Search to select candidate models\n",
    "----"
   ]
  },
  {
   "cell_type": "code",
   "execution_count": 65,
   "metadata": {},
   "outputs": [],
   "source": [
    "# helper class for testing different algorithms \n",
    "class DummyEstimator(BaseEstimator):\n",
    "    \"Pass through class, methods are present but do nothing.\"\n",
    "    def fit(self): pass\n",
    "    def score(self): pass"
   ]
  },
  {
   "cell_type": "code",
   "execution_count": 67,
   "metadata": {
    "tags": []
   },
   "outputs": [
    {
     "name": "stdout",
     "output_type": "stream",
     "text": [
      "RandomForestClassifier - f1: 0.70, roc: 0.70\n",
      "LogisticRegression - f1: 0.69, roc: 0.68\n",
      "RidgeClassifier   - f1: 0.70, roc: 0.70\n",
      "KNeighborsClassifier - f1: 0.64, roc: 0.66\n",
      "SVC               - f1: 0.71, roc: 0.71\n"
     ]
    }
   ],
   "source": [
    "# set of classifier algorithms to evaluate \n",
    "algorithms = [RandomForestClassifier(),\n",
    "             LogisticRegression(),\n",
    "             RidgeClassifier(),\n",
    "             KNeighborsClassifier(),\n",
    "             SVC()]\n",
    "\n",
    "# evaluating each algorithms performance with default parameters as a first step \n",
    "for algo in algorithms: \n",
    "    pipe = Pipeline([('preprocessing', preprocessing), \n",
    "                     ('classifier',  algo)])\n",
    "    f1_list = []\n",
    "    roc_list = []\n",
    "    \n",
    "    for x in range(20):\n",
    "        X_train, X_validate, y_train, y_validate = train_test_split(X_train_main, y_train_main)\n",
    "        pipe.fit(X_train, y_train)\n",
    "        y_pred = pipe.predict(X_validate)\n",
    "        f1 = f1_score(y_validate, y_pred)\n",
    "        f1_list.append(f1)\n",
    "        \n",
    "        roc = roc_auc_score(y_validate, y_pred)\n",
    "        roc_list.append(roc)\n",
    "    \n",
    "    average_f1 = sum(f1_list)/len(f1_list)\n",
    "    average_roc = sum(roc_list)/len(roc_list)\n",
    "        \n",
    "    print(f\"{algo.__class__.__name__:<17} - f1: {average_f1:,.2f}, roc: {average_roc:,.2f}\")"
   ]
  },
  {
   "cell_type": "markdown",
   "metadata": {},
   "source": [
    "The top three performing models before hyperparameter tuning are **SVC, RidgeClassifier,** and **RandomForestClassifier**. These models are now the top three candidate models. Next each model will be tuned and a final model will be chosen from the tuned model"
   ]
  },
  {
   "cell_type": "markdown",
   "metadata": {},
   "source": [
    "Candidate 1: SVC\n",
    "----"
   ]
  },
  {
   "cell_type": "code",
   "execution_count": 68,
   "metadata": {},
   "outputs": [],
   "source": [
    "hyperparameters = {'classifier__C': [1.0,2,3,4,5],                            # controls the strength of regularization\n",
    "                     'classifier__break_ties': [False, True],                 # determines how ties between predictors are broken\n",
    "                     'classifier__degree': [3,4,5,6,7],                       # degree when kernel is 'poly'\n",
    "                     'classifier__kernel': ['rbf','linear', 'poly', 'sigmoid', 'precomputed'], # speficies algorithm kernel type\n",
    "                     'classifier__shrinking': [True, False],                  # determines use of shrinkage heuristic \n",
    "                     'classifier__tol': [0.001, 0.01, 0.002, 0.01]}           # tolerance for stopping criterion\n",
    "\n",
    "# passing data through preprocessing steps and SVC model \n",
    "pipe = Pipeline([('preprocessing', preprocessing), \n",
    "                 ('classifier',  SVC())])\n",
    "\n",
    "# conducting random CV search to best performing hyperparameters\n",
    "clf_rand_cv = RandomizedSearchCV(estimator=pipe, \n",
    "                                  scoring ='f1',\n",
    "                                  param_distributions=hyperparameters, \n",
    "                                  n_iter=25,\n",
    "                                  cv=5, \n",
    "                                  n_jobs=-1,\n",
    "                                  verbose=False)\n",
    "\n",
    "best_model_svc = clf_rand_cv.fit(X_train_main, y_train_main) "
   ]
  },
  {
   "cell_type": "code",
   "execution_count": 69,
   "metadata": {},
   "outputs": [
    {
     "name": "stdout",
     "output_type": "stream",
     "text": [
      "f1 scores 0.71 with a standard deviation of 0.03\n",
      "ROC scores 0.76 with a standard deviation of 0.04\n"
     ]
    }
   ],
   "source": [
    "scoring = ['f1', 'roc_auc']\n",
    "scores = cross_validate(best_model_svc, X_train_main, y_train_main, cv=5, scoring=scoring)\n",
    "\n",
    "f1_scores = scores['test_f1']\n",
    "roc_auc_scores = scores['test_roc_auc']\n",
    "print(\"f1 scores %0.2f with a standard deviation of %0.2f\" % (f1_scores.mean(), f1_scores.std()))\n",
    "print(\"ROC scores %0.2f with a standard deviation of %0.2f\" % (roc_auc_scores.mean(), roc_auc_scores.std()))"
   ]
  },
  {
   "cell_type": "markdown",
   "metadata": {},
   "source": [
    "Candidate 2: RidgeClassifier\n",
    "---"
   ]
  },
  {
   "cell_type": "code",
   "execution_count": 72,
   "metadata": {},
   "outputs": [],
   "source": [
    "hyperparameters = {'classifier__alpha': [1.0, 2,3,4,5],                          # regularization strength \n",
    "                    'classifier__class_weight': [None, 'balanced'],              # weights associated to each class (for balancing imbalanced datasets)\n",
    "                    'classifier__copy_X': [True, False],                         # if True X is copied\n",
    "                    'classifier__normalize': [False, True],                      # if true regressors are normalized before regression\n",
    "                    'classifier__solver': ['auto', 'svd', 'cholesky', 'lsqr', 'sparse_cg', 'sag', 'saga']}   # solver used in computational routines\n",
    "\n",
    "pipe = Pipeline([('preprocessing', preprocessing), \n",
    "                 ('classifier',  RidgeClassifier())])\n",
    "\n",
    "\n",
    "clf_rand_cv = RandomizedSearchCV(estimator=pipe, \n",
    "                                  scoring ='f1',\n",
    "                                  param_distributions=hyperparameters, \n",
    "                                  n_iter=25,\n",
    "                                  cv=5, \n",
    "                                  n_jobs=-1,\n",
    "                                  verbose=False)\n",
    "\n",
    "best_model_ridge = clf_rand_cv.fit(X_train_main, y_train_main) "
   ]
  },
  {
   "cell_type": "code",
   "execution_count": 73,
   "metadata": {},
   "outputs": [
    {
     "name": "stdout",
     "output_type": "stream",
     "text": [
      "f1 scores 0.70 with a standard deviation of 0.02\n",
      "ROC scores 0.75 with a standard deviation of 0.03\n"
     ]
    }
   ],
   "source": [
    "scoring = ['f1', 'roc_auc']\n",
    "scores = cross_validate(best_model_ridge, X_train_main, y_train_main, cv=5, scoring=scoring)\n",
    "\n",
    "f1_scores = scores['test_f1']\n",
    "roc_auc_scores = scores['test_roc_auc']\n",
    "print(\"f1 scores %0.2f with a standard deviation of %0.2f\" % (f1_scores.mean(), f1_scores.std()))\n",
    "print(\"ROC scores %0.2f with a standard deviation of %0.2f\" % (roc_auc_scores.mean(), roc_auc_scores.std()))"
   ]
  },
  {
   "cell_type": "markdown",
   "metadata": {},
   "source": [
    "Candidate 3: Random Forest Classifier\n",
    "----"
   ]
  },
  {
   "cell_type": "code",
   "execution_count": 74,
   "metadata": {},
   "outputs": [],
   "source": [
    "hyperparameters = {'classifier__bootstrap': [True, False],                 # to use or not use bootstrap samples when constructing trees\n",
    "     'classifier__ccp_alpha': [1.0, 2.0, 0.0],                             # used for Minimal Cost-Complexity Pruning\n",
    "     'classifier__class_weight': [None, 'balanced', 'balanced_subsample'], # weights associated with classes \n",
    "     'classifier__criterion': ['gini', 'entropy'],                         # which loss function to use \n",
    "     'classifier__max_depth': [None,2,3,4,5, 6,7],                         # how many nodes a given tree can use\n",
    "     'classifier__max_leaf_nodes':[None, 2,3,4,5],                         # growing trees with max leaf node in best-first fashion\n",
    "     'classifier__max_samples': [None,2,3,4,5],                            # if bootstraping - the number of samples drawn from X \n",
    "     'classifier__min_samples_leaf': [1,2,3,4,5],                          # min number of targest per leaf\n",
    "     'classifier__n_estimators': [10, 50, 100, 110, 120, 200, 300, 500],   # number of trees \n",
    "     'classifier__warm_start': [False, True]}\n",
    "\n",
    "pipe = Pipeline([('preprocessing', preprocessing), \n",
    "                 ('classifier',  RandomForestClassifier())])\n",
    "\n",
    "clf_rand_cv = RandomizedSearchCV(estimator=pipe, \n",
    "                                  scoring ='f1',\n",
    "                                  param_distributions=hyperparameters, \n",
    "                                  n_iter=25,\n",
    "                                  cv=5, \n",
    "                                  n_jobs=-1,\n",
    "                                  verbose=False)\n",
    "\n",
    "best_model_rf = clf_rand_cv.fit(X_train_main, y_train_main) "
   ]
  },
  {
   "cell_type": "code",
   "execution_count": 75,
   "metadata": {},
   "outputs": [
    {
     "name": "stdout",
     "output_type": "stream",
     "text": [
      "f1 scores 0.72 with a standard deviation of 0.02\n",
      "ROC scores 0.77 with a standard deviation of 0.03\n"
     ]
    }
   ],
   "source": [
    "scoring = ['f1', 'roc_auc']\n",
    "scores = cross_validate(best_model_rf, X_train_main, y_train_main, cv=5, scoring=scoring)\n",
    "\n",
    "f1_scores = scores['test_f1']\n",
    "roc_auc_scores = scores['test_roc_auc']\n",
    "print(\"f1 scores %0.2f with a standard deviation of %0.2f\" % (f1_scores.mean(), f1_scores.std()))\n",
    "print(\"ROC scores %0.2f with a standard deviation of %0.2f\" % (roc_auc_scores.mean(), roc_auc_scores.std()))"
   ]
  },
  {
   "cell_type": "markdown",
   "metadata": {},
   "source": [
    "# Results\n",
    "Final Model: Random Forrest Classifier\n",
    "----\n",
    "All three candidate models performed similarly, however Random Forrest Classifier slightly out performed SVC and Ridge Classifier on both the F1 score and the ROC score. "
   ]
  },
  {
   "cell_type": "code",
   "execution_count": 76,
   "metadata": {},
   "outputs": [
    {
     "data": {
      "text/plain": [
       "RandomizedSearchCV(cv=5,\n",
       "                   estimator=Pipeline(steps=[('preprocessing',\n",
       "                                              ColumnTransformer(transformers=[('categorical',\n",
       "                                                                               Pipeline(steps=[('imputer',\n",
       "                                                                                                SimpleImputer(fill_value='missing',\n",
       "                                                                                                              strategy='constant')),\n",
       "                                                                                               ('ohe',\n",
       "                                                                                                OneHotEncoder(handle_unknown='ignore'))]),\n",
       "                                                                               ['Gender',\n",
       "                                                                                'Country',\n",
       "                                                                                'self_employed',\n",
       "                                                                                'family_history',\n",
       "                                                                                'remote_work',\n",
       "                                                                                'benefits',\n",
       "                                                                                'care_options',\n",
       "                                                                                'wellness_...\n",
       "                                                                     'balanced_subsample'],\n",
       "                                        'classifier__criterion': ['gini',\n",
       "                                                                  'entropy'],\n",
       "                                        'classifier__max_depth': [None, 2, 3, 4,\n",
       "                                                                  5, 6, 7],\n",
       "                                        'classifier__max_leaf_nodes': [None, 2,\n",
       "                                                                       3, 4,\n",
       "                                                                       5],\n",
       "                                        'classifier__max_samples': [None, 2, 3,\n",
       "                                                                    4, 5],\n",
       "                                        'classifier__min_samples_leaf': [1, 2,\n",
       "                                                                         3, 4,\n",
       "                                                                         5],\n",
       "                                        'classifier__n_estimators': [10, 50,\n",
       "                                                                     100, 110,\n",
       "                                                                     120, 200,\n",
       "                                                                     300, 500],\n",
       "                                        'classifier__warm_start': [False,\n",
       "                                                                   True]},\n",
       "                   scoring='f1', verbose=False)"
      ]
     },
     "execution_count": 76,
     "metadata": {},
     "output_type": "execute_result"
    }
   ],
   "source": [
    "# displaying the final model including the pipeline and tuned hyperparameters\n",
    "best_model_rf"
   ]
  },
  {
   "cell_type": "markdown",
   "metadata": {},
   "source": [
    "#### Performance on test set"
   ]
  },
  {
   "cell_type": "code",
   "execution_count": 78,
   "metadata": {},
   "outputs": [
    {
     "name": "stdout",
     "output_type": "stream",
     "text": [
      "Final f1 score: 0.7300613496932515 \n",
      "Final ROC score 0.7217673630717109\n"
     ]
    }
   ],
   "source": [
    "final_model = best_model_rf\n",
    "y_pred = final_model.predict(X_test)\n",
    "ROC_final_score = roc_auc_score(y_test, y_pred)\n",
    "F1_final_score = f1_score(y_test, y_pred)\n",
    "\n",
    "print(f\"Final f1 score: {F1_final_score} \\nFinal ROC score {ROC_final_score}\")"
   ]
  },
  {
   "cell_type": "markdown",
   "metadata": {},
   "source": [
    "Both the F1 and ROC scores go down when the model predicts on the test set. This is as expected because the model should perform best on the data that it was trained on.\n",
    "\n",
    "Nevertheless, with an F1 score and an ROC score well above 0.5 this model does the ability to predict seeking help significantly better than chance."
   ]
  },
  {
   "cell_type": "markdown",
   "metadata": {},
   "source": [
    "Feature Importance: Permutation Importance\n",
    "----"
   ]
  },
  {
   "cell_type": "markdown",
   "metadata": {},
   "source": [
    "Finding the permutation feature importance to get a feel for what features are most important in this model."
   ]
  },
  {
   "cell_type": "code",
   "execution_count": 79,
   "metadata": {},
   "outputs": [],
   "source": [
    "r = permutation_importance(final_model, \n",
    "                           X_test, y_test,  \n",
    "                           n_repeats=10)\n",
    "\n",
    "importances = r.importances_mean\n",
    "features = X.columns\n",
    "\n",
    "feat_importances = []\n",
    "for feature in zip(features, importances):\n",
    "    feat_importances.append(feature)"
   ]
  },
  {
   "cell_type": "markdown",
   "metadata": {},
   "source": [
    "selecting the top ten important features in this model to visualize"
   ]
  },
  {
   "cell_type": "code",
   "execution_count": 88,
   "metadata": {},
   "outputs": [],
   "source": [
    "importances_df = pd.DataFrame(feat_importances)\n",
    "importances_df.columns = ['feature', 'importance']\n",
    "importances_df = importances_df.sort_values(by=['importance'], ascending=False)\n",
    "importances_df = importances_df.head(8)"
   ]
  },
  {
   "cell_type": "code",
   "execution_count": 96,
   "metadata": {},
   "outputs": [
    {
     "data": {
      "text/plain": [
       "array(['family_history', 'care_options', 'benefits', 'Country',\n",
       "       'phys_health_interview', 'mental_health_consequence', 'leave',\n",
       "       'mental_vs_physical'], dtype=object)"
      ]
     },
     "execution_count": 96,
     "metadata": {},
     "output_type": "execute_result"
    }
   ],
   "source": [
    "importances_df.feature.values"
   ]
  },
  {
   "cell_type": "markdown",
   "metadata": {},
   "source": [
    "Plotting feature importance "
   ]
  },
  {
   "cell_type": "code",
   "execution_count": 93,
   "metadata": {},
   "outputs": [
    {
     "data": {
      "image/png": "[encoded data removed]",
      "text/plain": [
       "<Figure size 3240x1080 with 1 Axes>"
      ]
     },
     "metadata": {
      "needs_background": "light"
     },
     "output_type": "display_data"
    }
   ],
   "source": [
    "fig, ax = plt.subplots(figsize=(45,15)) \n",
    "\n",
    "plt.bar(importances_df['feature'], importances_df['importance'], color='#ffd488')\n",
    "\n",
    "ax.spines['top'].set_visible(False)\n",
    "ax.spines['right'].set_visible(False)\n",
    "\n",
    "ax.set_title(\"Top 8 Features by Permutation Importance\", fontsize=50)\n",
    "ax.set_xticklabels(importances_df['feature'], fontsize = '20', color = '#525252', fontweight='bold')\n",
    "ax.set_yticklabels(importances_df['importance'], fontsize = '22', color = '#525252', fontweight = 'bold')\n",
    "\n",
    "ax.yaxis.set_major_formatter(FormatStrFormatter('%.3f'))\n",
    "\n",
    "plt.show()"
   ]
  },
  {
   "cell_type": "markdown",
   "metadata": {},
   "source": [
    "Feature Importance: Chi Squared \n",
    "----"
   ]
  },
  {
   "cell_type": "code",
   "execution_count": 231,
   "metadata": {},
   "outputs": [],
   "source": [
    "# combining preprocessing steps into one \n",
    "preprocessing = ColumnTransformer([('categorical', cat_pipe, categorical_columns),\n",
    "                                   ('bin', bin_pipe, bin_column)])"
   ]
  },
  {
   "cell_type": "code",
   "execution_count": 232,
   "metadata": {},
   "outputs": [],
   "source": [
    "X_test = X_test[['Gender', 'Country', 'self_employed',\n",
    "       'family_history', 'remote_work', 'benefits', 'care_options',\n",
    "        'wellness_program','seek_help', 'anonymity', 'leave', 'mental_health_consequence',\n",
    "       'phys_health_consequence', 'coworkers', 'supervisor',\n",
    "       'mental_health_interview', 'phys_health_interview',\n",
    "       'mental_vs_physical', 'Age']]"
   ]
  },
  {
   "cell_type": "code",
   "execution_count": 233,
   "metadata": {},
   "outputs": [
    {
     "data": {
      "text/html": [
       "<div>\n",
       "<style scoped>\n",
       "    .dataframe tbody tr th:only-of-type {\n",
       "        vertical-align: middle;\n",
       "    }\n",
       "\n",
       "    .dataframe tbody tr th {\n",
       "        vertical-align: top;\n",
       "    }\n",
       "\n",
       "    .dataframe thead th {\n",
       "        text-align: right;\n",
       "    }\n",
       "</style>\n",
       "<table border=\"1\" class=\"dataframe\">\n",
       "  <thead>\n",
       "    <tr style=\"text-align: right;\">\n",
       "      <th></th>\n",
       "      <th>Gender</th>\n",
       "      <th>Country</th>\n",
       "      <th>self_employed</th>\n",
       "      <th>family_history</th>\n",
       "      <th>remote_work</th>\n",
       "      <th>benefits</th>\n",
       "      <th>care_options</th>\n",
       "      <th>wellness_program</th>\n",
       "      <th>seek_help</th>\n",
       "      <th>anonymity</th>\n",
       "      <th>leave</th>\n",
       "      <th>mental_health_consequence</th>\n",
       "      <th>phys_health_consequence</th>\n",
       "      <th>coworkers</th>\n",
       "      <th>supervisor</th>\n",
       "      <th>mental_health_interview</th>\n",
       "      <th>phys_health_interview</th>\n",
       "      <th>mental_vs_physical</th>\n",
       "      <th>Age</th>\n",
       "    </tr>\n",
       "  </thead>\n",
       "  <tbody>\n",
       "    <tr>\n",
       "      <th>614</th>\n",
       "      <td>male</td>\n",
       "      <td>United States</td>\n",
       "      <td>No</td>\n",
       "      <td>No</td>\n",
       "      <td>No</td>\n",
       "      <td>Yes</td>\n",
       "      <td>No</td>\n",
       "      <td>No</td>\n",
       "      <td>No</td>\n",
       "      <td>Don't know</td>\n",
       "      <td>Very easy</td>\n",
       "      <td>Yes</td>\n",
       "      <td>Maybe</td>\n",
       "      <td>Some of them</td>\n",
       "      <td>No</td>\n",
       "      <td>No</td>\n",
       "      <td>No</td>\n",
       "      <td>Don't know</td>\n",
       "      <td>29</td>\n",
       "    </tr>\n",
       "    <tr>\n",
       "      <th>375</th>\n",
       "      <td>male</td>\n",
       "      <td>United States</td>\n",
       "      <td>No</td>\n",
       "      <td>No</td>\n",
       "      <td>Yes</td>\n",
       "      <td>Yes</td>\n",
       "      <td>Yes</td>\n",
       "      <td>Don't know</td>\n",
       "      <td>Don't know</td>\n",
       "      <td>Don't know</td>\n",
       "      <td>Don't know</td>\n",
       "      <td>Maybe</td>\n",
       "      <td>No</td>\n",
       "      <td>No</td>\n",
       "      <td>Some of them</td>\n",
       "      <td>No</td>\n",
       "      <td>Maybe</td>\n",
       "      <td>Don't know</td>\n",
       "      <td>45</td>\n",
       "    </tr>\n",
       "    <tr>\n",
       "      <th>833</th>\n",
       "      <td>female</td>\n",
       "      <td>United States</td>\n",
       "      <td>No</td>\n",
       "      <td>Yes</td>\n",
       "      <td>No</td>\n",
       "      <td>Yes</td>\n",
       "      <td>Not sure</td>\n",
       "      <td>Don't know</td>\n",
       "      <td>No</td>\n",
       "      <td>Don't know</td>\n",
       "      <td>Don't know</td>\n",
       "      <td>No</td>\n",
       "      <td>No</td>\n",
       "      <td>Yes</td>\n",
       "      <td>Yes</td>\n",
       "      <td>No</td>\n",
       "      <td>Maybe</td>\n",
       "      <td>Don't know</td>\n",
       "      <td>29</td>\n",
       "    </tr>\n",
       "    <tr>\n",
       "      <th>609</th>\n",
       "      <td>male</td>\n",
       "      <td>Australia</td>\n",
       "      <td>No</td>\n",
       "      <td>No</td>\n",
       "      <td>Yes</td>\n",
       "      <td>No</td>\n",
       "      <td>No</td>\n",
       "      <td>No</td>\n",
       "      <td>No</td>\n",
       "      <td>Don't know</td>\n",
       "      <td>Don't know</td>\n",
       "      <td>Yes</td>\n",
       "      <td>No</td>\n",
       "      <td>No</td>\n",
       "      <td>No</td>\n",
       "      <td>No</td>\n",
       "      <td>Maybe</td>\n",
       "      <td>Don't know</td>\n",
       "      <td>27</td>\n",
       "    </tr>\n",
       "    <tr>\n",
       "      <th>473</th>\n",
       "      <td>female</td>\n",
       "      <td>United Kingdom</td>\n",
       "      <td>No</td>\n",
       "      <td>No</td>\n",
       "      <td>No</td>\n",
       "      <td>Yes</td>\n",
       "      <td>Yes</td>\n",
       "      <td>No</td>\n",
       "      <td>Yes</td>\n",
       "      <td>Don't know</td>\n",
       "      <td>Don't know</td>\n",
       "      <td>Yes</td>\n",
       "      <td>No</td>\n",
       "      <td>Some of them</td>\n",
       "      <td>Some of them</td>\n",
       "      <td>No</td>\n",
       "      <td>Maybe</td>\n",
       "      <td>No</td>\n",
       "      <td>39</td>\n",
       "    </tr>\n",
       "  </tbody>\n",
       "</table>\n",
       "</div>"
      ],
      "text/plain": [
       "     Gender         Country self_employed family_history remote_work benefits  \\\n",
       "614    male   United States            No             No          No      Yes   \n",
       "375    male   United States            No             No         Yes      Yes   \n",
       "833  female   United States            No            Yes          No      Yes   \n",
       "609    male       Australia            No             No         Yes       No   \n",
       "473  female  United Kingdom            No             No          No      Yes   \n",
       "\n",
       "    care_options wellness_program   seek_help   anonymity       leave  \\\n",
       "614           No               No          No  Don't know   Very easy   \n",
       "375          Yes       Don't know  Don't know  Don't know  Don't know   \n",
       "833     Not sure       Don't know          No  Don't know  Don't know   \n",
       "609           No               No          No  Don't know  Don't know   \n",
       "473          Yes               No         Yes  Don't know  Don't know   \n",
       "\n",
       "    mental_health_consequence phys_health_consequence     coworkers  \\\n",
       "614                       Yes                   Maybe  Some of them   \n",
       "375                     Maybe                      No            No   \n",
       "833                        No                      No           Yes   \n",
       "609                       Yes                      No            No   \n",
       "473                       Yes                      No  Some of them   \n",
       "\n",
       "       supervisor mental_health_interview phys_health_interview  \\\n",
       "614            No                      No                    No   \n",
       "375  Some of them                      No                 Maybe   \n",
       "833           Yes                      No                 Maybe   \n",
       "609            No                      No                 Maybe   \n",
       "473  Some of them                      No                 Maybe   \n",
       "\n",
       "    mental_vs_physical  Age  \n",
       "614         Don't know   29  \n",
       "375         Don't know   45  \n",
       "833         Don't know   29  \n",
       "609         Don't know   27  \n",
       "473                 No   39  "
      ]
     },
     "execution_count": 233,
     "metadata": {},
     "output_type": "execute_result"
    }
   ],
   "source": [
    "X_test.head()"
   ]
  },
  {
   "cell_type": "code",
   "execution_count": 234,
   "metadata": {},
   "outputs": [],
   "source": [
    "def convert_data(column):\n",
    "    data = asarray(column.values.reshape(-1,1))\n",
    "    imputer_num = SimpleImputer(strategy='constant', fill_value=-1)\n",
    "    imputer_str = SimpleImputer(strategy='constant', fill_value='missing')\n",
    "    encoder = OrdinalEncoder()\n",
    "    try:\n",
    "        data = imputer_str.fit_transform(data)\n",
    "    except:\n",
    "        data = imputer_num.fit_transform(data)\n",
    "    return encoder.fit_transform(data)\n",
    "\n",
    "for row in X_test:\n",
    "    X_test[row] = convert_data(X_test[row]) "
   ]
  },
  {
   "cell_type": "code",
   "execution_count": 235,
   "metadata": {},
   "outputs": [],
   "source": [
    "chi2, p_values = chi2(X_test, y_test)\n",
    "chi2_score_df = pd.DataFrame(chi2)\n",
    "chi2_score_df['columns'] = X_test.columns\n",
    "chi2_score_df['p-values'] = p_values"
   ]
  },
  {
   "cell_type": "code",
   "execution_count": 250,
   "metadata": {},
   "outputs": [],
   "source": [
    "chi2_score_df.columns = ['chi2', 'columns', 'p-values']\n",
    "chi2_score_df = chi2_score_df[['columns','chi2','p-values']]\n",
    "chi2_score_df.sort_values(by=['chi2'], ascending=False)"
   ]
  },
  {
   "cell_type": "code",
   "execution_count": 254,
   "metadata": {},
   "outputs": [
    {
     "data": {
      "text/html": [
       "<div>\n",
       "<style scoped>\n",
       "    .dataframe tbody tr th:only-of-type {\n",
       "        vertical-align: middle;\n",
       "    }\n",
       "\n",
       "    .dataframe tbody tr th {\n",
       "        vertical-align: top;\n",
       "    }\n",
       "\n",
       "    .dataframe thead th {\n",
       "        text-align: right;\n",
       "    }\n",
       "</style>\n",
       "<table border=\"1\" class=\"dataframe\">\n",
       "  <thead>\n",
       "    <tr style=\"text-align: right;\">\n",
       "      <th></th>\n",
       "      <th>chi2</th>\n",
       "      <th>columns</th>\n",
       "      <th>p-values</th>\n",
       "    </tr>\n",
       "  </thead>\n",
       "  <tbody>\n",
       "    <tr>\n",
       "      <th>3</th>\n",
       "      <td>28.532989</td>\n",
       "      <td>family_history</td>\n",
       "      <td>9.211558e-08</td>\n",
       "    </tr>\n",
       "    <tr>\n",
       "      <th>18</th>\n",
       "      <td>28.075053</td>\n",
       "      <td>Age</td>\n",
       "      <td>1.167005e-07</td>\n",
       "    </tr>\n",
       "    <tr>\n",
       "      <th>6</th>\n",
       "      <td>23.976610</td>\n",
       "      <td>care_options</td>\n",
       "      <td>9.751318e-07</td>\n",
       "    </tr>\n",
       "    <tr>\n",
       "      <th>9</th>\n",
       "      <td>12.571174</td>\n",
       "      <td>anonymity</td>\n",
       "      <td>3.917424e-04</td>\n",
       "    </tr>\n",
       "    <tr>\n",
       "      <th>1</th>\n",
       "      <td>10.844150</td>\n",
       "      <td>Country</td>\n",
       "      <td>9.910838e-04</td>\n",
       "    </tr>\n",
       "    <tr>\n",
       "      <th>5</th>\n",
       "      <td>9.061312</td>\n",
       "      <td>benefits</td>\n",
       "      <td>2.610746e-03</td>\n",
       "    </tr>\n",
       "    <tr>\n",
       "      <th>10</th>\n",
       "      <td>7.476747</td>\n",
       "      <td>leave</td>\n",
       "      <td>6.250088e-03</td>\n",
       "    </tr>\n",
       "  </tbody>\n",
       "</table>\n",
       "</div>"
      ],
      "text/plain": [
       "         chi2         columns      p-values\n",
       "3   28.532989  family_history  9.211558e-08\n",
       "18  28.075053             Age  1.167005e-07\n",
       "6   23.976610    care_options  9.751318e-07\n",
       "9   12.571174       anonymity  3.917424e-04\n",
       "1   10.844150         Country  9.910838e-04\n",
       "5    9.061312        benefits  2.610746e-03\n",
       "10   7.476747           leave  6.250088e-03"
      ]
     },
     "execution_count": 254,
     "metadata": {},
     "output_type": "execute_result"
    }
   ],
   "source": [
    "siginificant_chi2_score_df = chi2_score_df[chi2_score_df['p-values'] <= 0.05]\n",
    "siginificant_chi2_score_df.sort_values(by=['chi2'], ascending=False)"
   ]
  },
  {
   "cell_type": "code",
   "execution_count": 258,
   "metadata": {},
   "outputs": [
    {
     "data": {
      "text/plain": [
       "Don't know            563\n",
       "Somewhat easy         266\n",
       "Very easy             206\n",
       "Somewhat difficult    126\n",
       "Very difficult         98\n",
       "Name: leave, dtype: int64"
      ]
     },
     "execution_count": 258,
     "metadata": {},
     "output_type": "execute_result"
    }
   ],
   "source": [
    "df.leave.value_counts()"
   ]
  },
  {
   "cell_type": "markdown",
   "metadata": {},
   "source": [
    "Conclusion\n",
    "----\n",
    "\n",
    "This study above attempts to understand if it is possible to predict whether an individual has sought treatment for a mental health condition based on survey responses. Answering this question can help companies understand what employees may need extra help and/or what policies they should implement to increase healthy mental health practices (like seeking help). This information may also help mental health professionals understand clients that work in the tech industry and perhaps know the kinds of individuals that need more outreach or encouragement to seek help.\n",
    "\n",
    "To answer this question I first conduct a randomizedCV search to pick three candidate models from some of the most common classifier models. This first survey finds three candidate models: **SVC, RidgeClassifier,** and **RandomForestClassifier**. Then I tune the hyperparameters of each model with another random CV search. A final tuned Random Forest Classifier performs the best when compared to SVC and Ridge Classifier using F1 and ROC scores.\n",
    "\n",
    "These scores (greater than .8 in both cases) suggest that this model is somewhat effective at predicting if an individual has sought treatment (certainly better than chance). Therefore, it may be possible to evaluate someones chances for seeking help without asking them directly. Furthermore, a permutation importance method shows that family history, number of coworkers, and working remotely at least 50% of the time are the three most important features (at least in the context of this model). Therefore, companies and mental health professionals should dig deeper into these features in future studies."
   ]
  }
 ],
 "metadata": {
  "kernelspec": {
   "display_name": "Python 3",
   "language": "python",
   "name": "python3"
  },
  "language_info": {
   "codemirror_mode": {
    "name": "ipython",
    "version": 3
   },
   "file_extension": ".py",
   "mimetype": "text/x-python",
   "name": "python",
   "nbconvert_exporter": "python",
   "pygments_lexer": "ipython3",
   "version": "3.8.3"
  },
  "toc": {
   "base_numbering": 1,
   "nav_menu": {},
   "number_sections": false,
   "sideBar": false,
   "skip_h1_title": false,
   "title_cell": "Table of Contents",
   "title_sidebar": "Contents",
   "toc_cell": true,
   "toc_position": {},
   "toc_section_display": true,
   "toc_window_display": false
  }
 },
 "nbformat": 4,
 "nbformat_minor": 4
}
